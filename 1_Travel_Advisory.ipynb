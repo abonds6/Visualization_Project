{
 "cells": [
  {
   "cell_type": "code",
   "execution_count": 97,
   "metadata": {
    "scrolled": true
   },
   "outputs": [],
   "source": [
    "# Dependencies\n",
    "import os\n",
    "from bs4 import BeautifulSoup as bs\n",
    "import requests"
   ]
  },
  {
   "cell_type": "code",
   "execution_count": 98,
   "metadata": {},
   "outputs": [],
   "source": [
    "url = 'https://wwwnc.cdc.gov/travel/notices'                       \n",
    "                        "
   ]
  },
  {
   "cell_type": "code",
   "execution_count": 99,
   "metadata": {},
   "outputs": [
    {
     "name": "stdout",
     "output_type": "stream",
     "text": [
      "<Response [200]>\n"
     ]
    }
   ],
   "source": [
    " # Retrieve page with the requests module\n",
    "response = requests.get(url)\n",
    "print(response)"
   ]
  },
  {
   "cell_type": "code",
   "execution_count": 100,
   "metadata": {},
   "outputs": [],
   "source": [
    " # Create BeautifulSoup object; parse with 'html.parser'\n",
    "soup = bs(response.text, 'html.parser')"
   ]
  },
  {
   "cell_type": "code",
   "execution_count": 101,
   "metadata": {},
   "outputs": [],
   "source": [
    "#print(soup.prettify())"
   ]
  },
  {
   "cell_type": "code",
   "execution_count": 102,
   "metadata": {},
   "outputs": [
    {
     "name": "stdout",
     "output_type": "stream",
     "text": [
      "\n",
      "\n",
      "Warning Level 3 (Red): Avoid all non-essential travel to this destination. The outbreak is of high risk to travelers and no precautions are available to protect against the identified increased risk.\n",
      "\n",
      "\n",
      "Alert Level 2 (Yellow): Practice enhanced precautions for this destination. The Travel Health Notice describes additional precautions added, or defines a specific at-risk population.\n",
      "\n",
      "\n",
      "Watch Level 1 (Green): Practice usual precautions for this destination, as described in the Travel Health Notice and/or on the destination page. This includes being up-to-date on all recommended vaccines and practicing appropriate mosquito avoidance.\n",
      "\n",
      "\n"
     ]
    }
   ],
   "source": [
    "#Types of Notices seperated\n",
    "description = soup.find('ul', class_=\"mb-0 image-list\").text\n",
    "print(description)"
   ]
  },
  {
   "cell_type": "code",
   "execution_count": 103,
   "metadata": {},
   "outputs": [
    {
     "name": "stdout",
     "output_type": "stream",
     "text": [
      "Warning Level 3, Avoid Nonessential Travel\n"
     ]
    }
   ],
   "source": [
    "#Warning Level Title\n",
    "warning_level = soup.find('h3', class_=\"notice-typename-warning\").text\n",
    "print(warning_level)"
   ]
  },
  {
   "cell_type": "code",
   "execution_count": 104,
   "metadata": {},
   "outputs": [
    {
     "name": "stdout",
     "output_type": "stream",
     "text": [
      "['Warning Level 3, Avoid Nonessential Travel'] [[<ul class=\"list-block\" id=\"4\">\n",
      "<li>\n",
      "<a href=\"#\"><div id=\"SearchPanel\" style=\"display:none\">CDC recommends that travelers avoid all nonessential travel to Iran.COVID-19 in Iran448</div></a>\n",
      "<span class=\"badge badge-info\">Updated</span> \r\n",
      "                                <a href=\"/travel/notices/warning/coronavirus-iran\">COVID-19 in Iran</a>\n",
      "<span class=\"date\">March 12, 2020</span>\n",
      "<span class=\"summary\" id=\"summary\">CDC recommends that travelers avoid all nonessential travel to Iran.</span>\n",
      "<a class=\"readmore\" href=\"/travel/notices/warning/coronavirus-iran\">Read More &gt;&gt;</a>\n",
      "</li>\n",
      "<li>\n",
      "<a href=\"#\"><div id=\"SearchPanel\" style=\"display:none\">CDC recommends that travelers avoid all nonessential travel to South Korea.COVID-19 in South Korea447</div></a>\n",
      "<span class=\"badge badge-info\">Updated</span> \r\n",
      "                                <a href=\"/travel/notices/warning/coronavirus-south-korea\">COVID-19 in South Korea</a>\n",
      "<span class=\"date\">March 12, 2020</span>\n",
      "<span class=\"summary\" id=\"summary\">CDC recommends that travelers avoid all nonessential travel to South Korea.</span>\n",
      "<a class=\"readmore\" href=\"/travel/notices/warning/coronavirus-south-korea\">Read More &gt;&gt;</a>\n",
      "</li>\n",
      "<li>\n",
      "<a href=\"#\"><div id=\"SearchPanel\" style=\"display:none\">CDC recommends that travelers avoid all nonessential travel to China.COVID-19 in China439</div></a>\n",
      "<span class=\"badge badge-info\">Updated</span> \r\n",
      "                                <a href=\"/travel/notices/warning/novel-coronavirus-china\">COVID-19 in China</a>\n",
      "<span class=\"date\">March 12, 2020</span>\n",
      "<span class=\"summary\" id=\"summary\">CDC recommends that travelers avoid all nonessential travel to China.</span>\n",
      "<a class=\"readmore\" href=\"/travel/notices/warning/novel-coronavirus-china\">Read More &gt;&gt;</a>\n",
      "</li>\n",
      "<li>\n",
      "<a href=\"#\"><div id=\"SearchPanel\" style=\"display:none\">Europe is experiencing widespread sustained transmission of respiratory illness caused by the novel (new) coronavirus (COVID-19). CDC recommends that travelers avoid all nonessential travel to the specified countries in Europe (see list). COVID-19 in Europe491</div></a>\n",
      "<span class=\"badge badge-important\">New</span> \r\n",
      "                                \r\n",
      "                                <a href=\"/travel/notices/warning/coronavirus-europe\">COVID-19 in Europe</a>\n",
      "<span class=\"date\">March 11, 2020</span>\n",
      "<span class=\"summary\" id=\"summary\">Europe is experiencing widespread sustained transmission of respiratory illness caused by the novel (new) coronavirus (COVID-19). CDC recommends that travelers avoid all nonessential travel to the specified countries in Europe (see list). </span>\n",
      "<a class=\"readmore\" href=\"/travel/notices/warning/coronavirus-europe\">Read More &gt;&gt;</a>\n",
      "</li>\n",
      "<li>\n",
      "<a href=\"#\"><div id=\"SearchPanel\" style=\"display:none\">CDC recommends that travelers avoid all nonessential travel to Venezuela. The country is experiencing outbreaks of infectious diseases, and adequate health care is currently not available in most of the country. Health Infrastructure Breakdown in Venezuela396</div></a>\n",
      "<a href=\"/travel/notices/warning/health-infrastructure-breakdown-venezuela\">Health Infrastructure Breakdown in Venezuela</a>\n",
      "<span class=\"date\">January 03, 2020</span>\n",
      "<span class=\"summary\" id=\"summary\">CDC recommends that travelers avoid all nonessential travel to Venezuela. The country is experiencing outbreaks of infectious diseases, and adequate health care is currently not available in most of the country. </span>\n",
      "<a class=\"readmore\" href=\"/travel/notices/warning/health-infrastructure-breakdown-venezuela\">Read More &gt;&gt;</a>\n",
      "</li>\n",
      "</ul>]]\n"
     ]
    }
   ],
   "source": [
    "#Warning Level 1\n",
    "warning_level = []\n",
    "summary = []\n",
    "list = soup.find('h3', class_=\"notice-typename-warning\")\n",
    "for i in list:\n",
    "    level = soup.find('h3', class_=\"notice-typename-warning\").text\n",
    "    warning_level.append(level)\n",
    "    #detail = soup.find_all('span', class_='summary')\n",
    "    detail = soup.find_all(id='4')\n",
    "    summary.append(detail)\n",
    "    \n",
    "print(warning_level,summary)   "
   ]
  },
  {
   "cell_type": "code",
   "execution_count": 105,
   "metadata": {},
   "outputs": [
    {
     "name": "stdout",
     "output_type": "stream",
     "text": [
      "['Alert  Level 2, Practice Enhanced Precautions'] [[<ul class=\"list-block\" id=\"4\">\n",
      "<li>\n",
      "<a href=\"#\"><div id=\"SearchPanel\" style=\"display:none\">CDC recommends that travelers avoid all nonessential travel to Iran.COVID-19 in Iran448</div></a>\n",
      "<span class=\"badge badge-info\">Updated</span> \r\n",
      "                                <a href=\"/travel/notices/warning/coronavirus-iran\">COVID-19 in Iran</a>\n",
      "<span class=\"date\">March 12, 2020</span>\n",
      "<span class=\"summary\" id=\"summary\">CDC recommends that travelers avoid all nonessential travel to Iran.</span>\n",
      "<a class=\"readmore\" href=\"/travel/notices/warning/coronavirus-iran\">Read More &gt;&gt;</a>\n",
      "</li>\n",
      "<li>\n",
      "<a href=\"#\"><div id=\"SearchPanel\" style=\"display:none\">CDC recommends that travelers avoid all nonessential travel to South Korea.COVID-19 in South Korea447</div></a>\n",
      "<span class=\"badge badge-info\">Updated</span> \r\n",
      "                                <a href=\"/travel/notices/warning/coronavirus-south-korea\">COVID-19 in South Korea</a>\n",
      "<span class=\"date\">March 12, 2020</span>\n",
      "<span class=\"summary\" id=\"summary\">CDC recommends that travelers avoid all nonessential travel to South Korea.</span>\n",
      "<a class=\"readmore\" href=\"/travel/notices/warning/coronavirus-south-korea\">Read More &gt;&gt;</a>\n",
      "</li>\n",
      "<li>\n",
      "<a href=\"#\"><div id=\"SearchPanel\" style=\"display:none\">CDC recommends that travelers avoid all nonessential travel to China.COVID-19 in China439</div></a>\n",
      "<span class=\"badge badge-info\">Updated</span> \r\n",
      "                                <a href=\"/travel/notices/warning/novel-coronavirus-china\">COVID-19 in China</a>\n",
      "<span class=\"date\">March 12, 2020</span>\n",
      "<span class=\"summary\" id=\"summary\">CDC recommends that travelers avoid all nonessential travel to China.</span>\n",
      "<a class=\"readmore\" href=\"/travel/notices/warning/novel-coronavirus-china\">Read More &gt;&gt;</a>\n",
      "</li>\n",
      "<li>\n",
      "<a href=\"#\"><div id=\"SearchPanel\" style=\"display:none\">Europe is experiencing widespread sustained transmission of respiratory illness caused by the novel (new) coronavirus (COVID-19). CDC recommends that travelers avoid all nonessential travel to the specified countries in Europe (see list). COVID-19 in Europe491</div></a>\n",
      "<span class=\"badge badge-important\">New</span> \r\n",
      "                                \r\n",
      "                                <a href=\"/travel/notices/warning/coronavirus-europe\">COVID-19 in Europe</a>\n",
      "<span class=\"date\">March 11, 2020</span>\n",
      "<span class=\"summary\" id=\"summary\">Europe is experiencing widespread sustained transmission of respiratory illness caused by the novel (new) coronavirus (COVID-19). CDC recommends that travelers avoid all nonessential travel to the specified countries in Europe (see list). </span>\n",
      "<a class=\"readmore\" href=\"/travel/notices/warning/coronavirus-europe\">Read More &gt;&gt;</a>\n",
      "</li>\n",
      "<li>\n",
      "<a href=\"#\"><div id=\"SearchPanel\" style=\"display:none\">CDC recommends that travelers avoid all nonessential travel to Venezuela. The country is experiencing outbreaks of infectious diseases, and adequate health care is currently not available in most of the country. Health Infrastructure Breakdown in Venezuela396</div></a>\n",
      "<a href=\"/travel/notices/warning/health-infrastructure-breakdown-venezuela\">Health Infrastructure Breakdown in Venezuela</a>\n",
      "<span class=\"date\">January 03, 2020</span>\n",
      "<span class=\"summary\" id=\"summary\">CDC recommends that travelers avoid all nonessential travel to Venezuela. The country is experiencing outbreaks of infectious diseases, and adequate health care is currently not available in most of the country. </span>\n",
      "<a class=\"readmore\" href=\"/travel/notices/warning/health-infrastructure-breakdown-venezuela\">Read More &gt;&gt;</a>\n",
      "</li>\n",
      "</ul>]]\n"
     ]
    }
   ],
   "source": [
    "#Alert Level 2\n",
    "#Alert Level 2\n",
    "alert_level = []\n",
    "summary_alert = []\n",
    "list = soup.find('h3', class_=\"notice-typename-alert\")\n",
    "for i in list:\n",
    "    level = soup.find('h3', class_=\"notice-typename-alert\").text\n",
    "    alert_level.append(level)\n",
    "    #detail = soup.find_all('span', class_='summary')\n",
    "    detail = soup.find_all(id='3')\n",
    "    summary_alert.append(detail)\n",
    "    \n",
    "print(alert_level,summary)"
   ]
  },
  {
   "cell_type": "code",
   "execution_count": 106,
   "metadata": {},
   "outputs": [
    {
     "name": "stdout",
     "output_type": "stream",
     "text": [
      "['Watch  Level 1, Practice Usual Precautions'] [[<ul class=\"list-block\" id=\"4\">\n",
      "<li>\n",
      "<a href=\"#\"><div id=\"SearchPanel\" style=\"display:none\">CDC recommends that travelers avoid all nonessential travel to Iran.COVID-19 in Iran448</div></a>\n",
      "<span class=\"badge badge-info\">Updated</span> \r\n",
      "                                <a href=\"/travel/notices/warning/coronavirus-iran\">COVID-19 in Iran</a>\n",
      "<span class=\"date\">March 12, 2020</span>\n",
      "<span class=\"summary\" id=\"summary\">CDC recommends that travelers avoid all nonessential travel to Iran.</span>\n",
      "<a class=\"readmore\" href=\"/travel/notices/warning/coronavirus-iran\">Read More &gt;&gt;</a>\n",
      "</li>\n",
      "<li>\n",
      "<a href=\"#\"><div id=\"SearchPanel\" style=\"display:none\">CDC recommends that travelers avoid all nonessential travel to South Korea.COVID-19 in South Korea447</div></a>\n",
      "<span class=\"badge badge-info\">Updated</span> \r\n",
      "                                <a href=\"/travel/notices/warning/coronavirus-south-korea\">COVID-19 in South Korea</a>\n",
      "<span class=\"date\">March 12, 2020</span>\n",
      "<span class=\"summary\" id=\"summary\">CDC recommends that travelers avoid all nonessential travel to South Korea.</span>\n",
      "<a class=\"readmore\" href=\"/travel/notices/warning/coronavirus-south-korea\">Read More &gt;&gt;</a>\n",
      "</li>\n",
      "<li>\n",
      "<a href=\"#\"><div id=\"SearchPanel\" style=\"display:none\">CDC recommends that travelers avoid all nonessential travel to China.COVID-19 in China439</div></a>\n",
      "<span class=\"badge badge-info\">Updated</span> \r\n",
      "                                <a href=\"/travel/notices/warning/novel-coronavirus-china\">COVID-19 in China</a>\n",
      "<span class=\"date\">March 12, 2020</span>\n",
      "<span class=\"summary\" id=\"summary\">CDC recommends that travelers avoid all nonessential travel to China.</span>\n",
      "<a class=\"readmore\" href=\"/travel/notices/warning/novel-coronavirus-china\">Read More &gt;&gt;</a>\n",
      "</li>\n",
      "<li>\n",
      "<a href=\"#\"><div id=\"SearchPanel\" style=\"display:none\">Europe is experiencing widespread sustained transmission of respiratory illness caused by the novel (new) coronavirus (COVID-19). CDC recommends that travelers avoid all nonessential travel to the specified countries in Europe (see list). COVID-19 in Europe491</div></a>\n",
      "<span class=\"badge badge-important\">New</span> \r\n",
      "                                \r\n",
      "                                <a href=\"/travel/notices/warning/coronavirus-europe\">COVID-19 in Europe</a>\n",
      "<span class=\"date\">March 11, 2020</span>\n",
      "<span class=\"summary\" id=\"summary\">Europe is experiencing widespread sustained transmission of respiratory illness caused by the novel (new) coronavirus (COVID-19). CDC recommends that travelers avoid all nonessential travel to the specified countries in Europe (see list). </span>\n",
      "<a class=\"readmore\" href=\"/travel/notices/warning/coronavirus-europe\">Read More &gt;&gt;</a>\n",
      "</li>\n",
      "<li>\n",
      "<a href=\"#\"><div id=\"SearchPanel\" style=\"display:none\">CDC recommends that travelers avoid all nonessential travel to Venezuela. The country is experiencing outbreaks of infectious diseases, and adequate health care is currently not available in most of the country. Health Infrastructure Breakdown in Venezuela396</div></a>\n",
      "<a href=\"/travel/notices/warning/health-infrastructure-breakdown-venezuela\">Health Infrastructure Breakdown in Venezuela</a>\n",
      "<span class=\"date\">January 03, 2020</span>\n",
      "<span class=\"summary\" id=\"summary\">CDC recommends that travelers avoid all nonessential travel to Venezuela. The country is experiencing outbreaks of infectious diseases, and adequate health care is currently not available in most of the country. </span>\n",
      "<a class=\"readmore\" href=\"/travel/notices/warning/health-infrastructure-breakdown-venezuela\">Read More &gt;&gt;</a>\n",
      "</li>\n",
      "</ul>]]\n"
     ]
    }
   ],
   "source": [
    "#Watch Level 1\n",
    "#Watch Level 1\n",
    "watch_level = []\n",
    "summary_watch = []\n",
    "list = soup.find('h3', class_=\"notice-typename-watch\")\n",
    "for i in list:\n",
    "    level = soup.find('h3', class_=\"notice-typename-watch\").text\n",
    "    watch_level.append(level)\n",
    "    #detail = soup.find_all('span', class_='summary')\n",
    "    detail = soup.find_all(id='2')\n",
    "    summary_watch.append(detail)\n",
    "    \n",
    "print(watch_level,summary)"
   ]
  },
  {
   "cell_type": "code",
   "execution_count": null,
   "metadata": {},
   "outputs": [],
   "source": []
  },
  {
   "cell_type": "code",
   "execution_count": null,
   "metadata": {},
   "outputs": [],
   "source": []
  }
 ],
 "metadata": {
  "kernelspec": {
   "display_name": "Python 3",
   "language": "python",
   "name": "python3"
  },
  "language_info": {
   "codemirror_mode": {
    "name": "ipython",
    "version": 3
   },
   "file_extension": ".py",
   "mimetype": "text/x-python",
   "name": "python",
   "nbconvert_exporter": "python",
   "pygments_lexer": "ipython3",
   "version": "3.7.4"
  }
 },
 "nbformat": 4,
 "nbformat_minor": 2
}
